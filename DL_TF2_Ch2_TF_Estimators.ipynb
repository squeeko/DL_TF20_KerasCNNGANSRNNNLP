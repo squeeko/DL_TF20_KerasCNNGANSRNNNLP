{
  "nbformat": 4,
  "nbformat_minor": 0,
  "metadata": {
    "colab": {
      "name": "DL_TF2_Ch2_TF_Estimators.ipynb",
      "provenance": [],
      "collapsed_sections": [],
      "authorship_tag": "ABX9TyO7cJ6RpJiuGGdlpL5EqAS3",
      "include_colab_link": true
    },
    "kernelspec": {
      "name": "python3",
      "display_name": "Python 3"
    }
  },
  "cells": [
    {
      "cell_type": "markdown",
      "metadata": {
        "id": "view-in-github",
        "colab_type": "text"
      },
      "source": [
        "<a href=\"https://colab.research.google.com/github/squeeko/DL_TF20_KerasCNNGANSRNNNLP/blob/in_progress/DL_TF2_Ch2_TF_Estimators.ipynb\" target=\"_parent\"><img src=\"https://colab.research.google.com/assets/colab-badge.svg\" alt=\"Open In Colab\"/></a>"
      ]
    },
    {
      "cell_type": "markdown",
      "metadata": {
        "id": "OGhc9ZeKnZlO"
      },
      "source": [
        "# TensorFlow Estimators\n",
        "\n",
        "TensorFlow provides Estimators as higher-level APIs, to provide scalable and\n",
        "production-oriented solutions. They take care of all behind-the-scene activities such\n",
        "as creating computational graphs, initializing the variables, training the model,\n",
        "saving checkpoints, and logging TensorBoard files. TensorFlow provides two types\n",
        "of Estimators:\n",
        "\n",
        "• Canned Estimators: These are premade Estimators available in the\n",
        "TensorFlow estimator module. These are models in a box; you just pass\n",
        "them the input features and they are ready to use. Some examples are\n",
        "Linear Classifier, Linear Regressor, DNN Classifier, and so on.\n",
        "\n",
        "• Custom Estimators: Users can also create their own estimators from the\n",
        "models they build in TensorFlow Keras. These are user-defined Estimators.\n",
        "Before being able to use TensorFlow Estimator let us understand two important\n",
        "components of the Estimator pipeline:"
      ]
    },
    {
      "cell_type": "markdown",
      "metadata": {
        "id": "mo18dLfInkag"
      },
      "source": [
        "## Feature columns\n",
        "\n",
        "The feature_column module of TensorFlow 2.0 acts as a bridge between your input\n",
        "data and the model. The input parameters to be used by the estimators for training\n",
        "are passed as feature columns. They are defined in TensorFlow feature_column and\n",
        "specify how the data is interpreted by the model. To create feature columns we will\n",
        "need to call functions from tensorflow.feature_columns. There are nine functions\n",
        "available in feature column:\n",
        "\n",
        "**• categorical_column_with_identity:** Here each category is one-hot\n",
        "encoded, and thus has a unique identity. This can be used for numeric values\n",
        "only.\n",
        "\n",
        "**• categorical_column_with_vocabulary_file:** This is used when the\n",
        "categorical input is a string and the categories are given in a file. The string is\n",
        "first converted to a numeric value and then one-hot encoded.\n",
        "\n",
        "**• categorical_column_with_vocabulary_list:** This is used when the categorical input is a string and the categories are explicitly defined in a list.\n",
        "The string is first converted to a numeric value and then one-hot encoded.\n",
        "\n",
        "**• categorical_column_with_hash_bucket:** In case the number of categories is very large, and it is not possible to one-hot encode, we use hashing.\n",
        "\n",
        "**• crossed_column:** When we want to use two columns combined as one\n",
        "feature, for example, in the case of geolocation-based data it makes sense to\n",
        "combine longitude and latitude values as one feature.\n",
        "\n",
        "**• numeric_column:** Used when the feature is a numeric, it can be a single value or even a matrix.\n",
        "\n",
        "**• indicator_column:** We do not use this directly. Instead, it is used with the categorical column, but only when the number of categories is limited and can be represented as one-hot encoded.\n",
        "\n",
        "**• embedding_column:** We do not use this directly. Instead, it is used with the categorical column, but only when the number of categories is very large and\n",
        "cannot be represented as one-hot encoded.\n",
        "\n",
        "**• bucketized_column:** This is used when, instead of a specific numeric value, we split the data into different categories depending upon its value.\n",
        "\n",
        "The first six functions inherit from the Categorical Column class, the next three inherit from the Dense Column class, and the last one inherits from both classes. \n",
        "\n",
        "In the following example we will use numeric_column and categorical_column_ with_vocabulary_list functions."
      ]
    },
    {
      "cell_type": "markdown",
      "metadata": {
        "id": "CBlprC-ho48h"
      },
      "source": [
        "## MNIST using TensorFlow Estimator API\n",
        "\n",
        "Let us build a simple TensorFlow estimator with a simple dataset for a multiple regression problem. We continue with the home price prediction, but now have two features, that is, we are considering two independent variables: the area of the house and its type (bungalow or apartment) on which we presume our price should\n",
        "depend:"
      ]
    },
    {
      "cell_type": "code",
      "metadata": {
        "id": "CtHufz1NEFoA"
      },
      "source": [
        "# Import the modules\n",
        "\n",
        "import tensorflow as tf\n",
        "from tensorflow import feature_column as fc\n",
        "numeric_column = fc.numeric_column\n",
        "categorical_column_with_vocabulary = fc.categorical_column_with_vocabulary_list"
      ],
      "execution_count": 2,
      "outputs": []
    },
    {
      "cell_type": "code",
      "metadata": {
        "id": "4JWgOXHypWEH"
      },
      "source": [
        "# define the feature columns to train the regressor\n",
        "\n",
        "featcols = [\n",
        "            tf.feature_column.numeric_column('area'),\n",
        "            tf.feature_column.categorical_column_with_vocabulary_list(\"type\",[\"bungalow\", \"apartment\"])\n",
        "]"
      ],
      "execution_count": 4,
      "outputs": []
    },
    {
      "cell_type": "code",
      "metadata": {
        "id": "sIZITGWiqBuT"
      },
      "source": [
        "# define an input function to provide input for training\n",
        "\n",
        "def train_input_fn():\n",
        "  features = {\"area\":[1000, 2000, 4000, 1000, 2000, 4000],\n",
        "              \"type\":[\"bungalow\",\"bungalow\",\"house\",\"apartment\",\n",
        "                      \"apartment\",\"apartment\"]}\n",
        "  labels = [500, 1000, 1500, 700, 1300, 1900]\n",
        "  return features, labels"
      ],
      "execution_count": 5,
      "outputs": []
    },
    {
      "cell_type": "code",
      "metadata": {
        "id": "H96H8x2nq_To",
        "outputId": "e36651b1-a9fa-46fd-cd8c-3dc919b24a7d",
        "colab": {
          "base_uri": "https://localhost:8080/",
          "height": 649
        }
      },
      "source": [
        "# use the premade LinearRegressor estimator and fit it on the training dataset\n",
        "\n",
        "model = tf.estimator.LinearRegressor(featcols)\n",
        "model.train(train_input_fn, steps = 200)"
      ],
      "execution_count": 6,
      "outputs": [
        {
          "output_type": "stream",
          "text": [
            "INFO:tensorflow:Using default config.\n",
            "WARNING:tensorflow:Using temporary folder as model directory: /tmp/tmpp6mn22gg\n",
            "INFO:tensorflow:Using config: {'_model_dir': '/tmp/tmpp6mn22gg', '_tf_random_seed': None, '_save_summary_steps': 100, '_save_checkpoints_steps': None, '_save_checkpoints_secs': 600, '_session_config': allow_soft_placement: true\n",
            "graph_options {\n",
            "  rewrite_options {\n",
            "    meta_optimizer_iterations: ONE\n",
            "  }\n",
            "}\n",
            ", '_keep_checkpoint_max': 5, '_keep_checkpoint_every_n_hours': 10000, '_log_step_count_steps': 100, '_train_distribute': None, '_device_fn': None, '_protocol': None, '_eval_distribute': None, '_experimental_distribute': None, '_experimental_max_worker_delay_secs': None, '_session_creation_timeout_secs': 7200, '_service': None, '_cluster_spec': ClusterSpec({}), '_task_type': 'worker', '_task_id': 0, '_global_id_in_cluster': 0, '_master': '', '_evaluation_master': '', '_is_chief': True, '_num_ps_replicas': 0, '_num_worker_replicas': 1}\n",
            "WARNING:tensorflow:From /usr/local/lib/python3.6/dist-packages/tensorflow/python/training/training_util.py:236: Variable.initialized_value (from tensorflow.python.ops.variables) is deprecated and will be removed in a future version.\n",
            "Instructions for updating:\n",
            "Use Variable.read_value. Variables in 2.X are initialized automatically both in eager and graph (inside tf.defun) contexts.\n",
            "INFO:tensorflow:Calling model_fn.\n",
            "WARNING:tensorflow:From /usr/local/lib/python3.6/dist-packages/tensorflow_estimator/python/estimator/canned/linear.py:1481: Layer.add_variable (from tensorflow.python.keras.engine.base_layer_v1) is deprecated and will be removed in a future version.\n",
            "Instructions for updating:\n",
            "Please use `layer.add_weight` method instead.\n",
            "WARNING:tensorflow:From /usr/local/lib/python3.6/dist-packages/tensorflow/python/keras/optimizer_v2/ftrl.py:112: calling Constant.__init__ (from tensorflow.python.ops.init_ops) with dtype is deprecated and will be removed in a future version.\n",
            "Instructions for updating:\n",
            "Call initializer instance with the dtype argument instead of passing it to the constructor\n",
            "INFO:tensorflow:Done calling model_fn.\n",
            "INFO:tensorflow:Create CheckpointSaverHook.\n",
            "INFO:tensorflow:Graph was finalized.\n",
            "INFO:tensorflow:Running local_init_op.\n",
            "INFO:tensorflow:Done running local_init_op.\n",
            "INFO:tensorflow:Calling checkpoint listeners before saving checkpoint 0...\n",
            "INFO:tensorflow:Saving checkpoints for 0 into /tmp/tmpp6mn22gg/model.ckpt.\n",
            "INFO:tensorflow:Calling checkpoint listeners after saving checkpoint 0...\n",
            "INFO:tensorflow:loss = 1548333.4, step = 0\n",
            "WARNING:tensorflow:It seems that global step (tf.train.get_global_step) has not been increased. Current value (could be stable): 57 vs previous value: 57. You could increase the global step by passing tf.train.get_global_step() to Optimizer.apply_gradients or Optimizer.minimize.\n",
            "INFO:tensorflow:global_step/sec: 773.41\n",
            "INFO:tensorflow:loss = 54075.324, step = 100 (0.131 sec)\n",
            "INFO:tensorflow:Calling checkpoint listeners before saving checkpoint 200...\n",
            "INFO:tensorflow:Saving checkpoints for 200 into /tmp/tmpp6mn22gg/model.ckpt.\n",
            "INFO:tensorflow:Calling checkpoint listeners after saving checkpoint 200...\n",
            "INFO:tensorflow:Loss for final step: 53623.418.\n"
          ],
          "name": "stdout"
        },
        {
          "output_type": "execute_result",
          "data": {
            "text/plain": [
              "<tensorflow_estimator.python.estimator.canned.linear.LinearRegressorV2 at 0x7fd44e0ab048>"
            ]
          },
          "metadata": {
            "tags": []
          },
          "execution_count": 6
        }
      ]
    },
    {
      "cell_type": "code",
      "metadata": {
        "id": "xmdPQbPvrU8g",
        "outputId": "f3eb7d8e-4795-4245-854d-38bcc79772a3",
        "colab": {
          "base_uri": "https://localhost:8080/",
          "height": 190
        }
      },
      "source": [
        "# estimator is trained and lets see the results of the prediction\n",
        "\n",
        "def predict_input_fn():\n",
        "  features = {\"area\":[1500, 1800],\n",
        "              \"type\":[\"house\", \"apt\"]}\n",
        "  return features\n",
        "\n",
        "predictions = model.predict(predict_input_fn)\n",
        "\n",
        "print(next(predictions))\n",
        "print(next(predictions))"
      ],
      "execution_count": 8,
      "outputs": [
        {
          "output_type": "stream",
          "text": [
            "WARNING:tensorflow:Input graph does not use tf.data.Dataset or contain a QueueRunner. That means predict yields forever. This is probably a mistake.\n",
            "INFO:tensorflow:Calling model_fn.\n",
            "INFO:tensorflow:Done calling model_fn.\n",
            "INFO:tensorflow:Graph was finalized.\n",
            "INFO:tensorflow:Restoring parameters from /tmp/tmpp6mn22gg/model.ckpt-200\n",
            "INFO:tensorflow:Running local_init_op.\n",
            "INFO:tensorflow:Done running local_init_op.\n",
            "{'predictions': array([692.7829], dtype=float32)}\n",
            "{'predictions': array([830.9035], dtype=float32)}\n"
          ],
          "name": "stdout"
        }
      ]
    },
    {
      "cell_type": "code",
      "metadata": {
        "id": "QB7rfThJsjEo"
      },
      "source": [
        ""
      ],
      "execution_count": null,
      "outputs": []
    }
  ]
}