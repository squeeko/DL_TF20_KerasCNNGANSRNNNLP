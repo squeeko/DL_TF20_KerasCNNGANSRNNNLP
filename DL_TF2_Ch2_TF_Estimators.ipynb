{
  "nbformat": 4,
  "nbformat_minor": 0,
  "metadata": {
    "colab": {
      "name": "DL_TF2_Ch2_TF_Estimators.ipynb",
      "provenance": [],
      "collapsed_sections": [],
      "authorship_tag": "ABX9TyNgR9uJbZapkl0NFOaJHKjc",
      "include_colab_link": true
    },
    "kernelspec": {
      "name": "python3",
      "display_name": "Python 3"
    }
  },
  "cells": [
    {
      "cell_type": "markdown",
      "metadata": {
        "id": "view-in-github",
        "colab_type": "text"
      },
      "source": [
        "<a href=\"https://colab.research.google.com/github/squeeko/DL_TF20_KerasCNNGANSRNNNLP/blob/in_progress/DL_TF2_Ch2_TF_Estimators.ipynb\" target=\"_parent\"><img src=\"https://colab.research.google.com/assets/colab-badge.svg\" alt=\"Open In Colab\"/></a>"
      ]
    },
    {
      "cell_type": "markdown",
      "metadata": {
        "id": "OGhc9ZeKnZlO"
      },
      "source": [
        "# TensorFlow Estimators\n",
        "\n",
        "TensorFlow provides Estimators as higher-level APIs, to provide scalable and\n",
        "production-oriented solutions. They take care of all behind-the-scene activities such\n",
        "as creating computational graphs, initializing the variables, training the model,\n",
        "saving checkpoints, and logging TensorBoard files. TensorFlow provides two types\n",
        "of Estimators:\n",
        "\n",
        "• Canned Estimators: These are premade Estimators available in the\n",
        "TensorFlow estimator module. These are models in a box; you just pass\n",
        "them the input features and they are ready to use. Some examples are\n",
        "Linear Classifier, Linear Regressor, DNN Classifier, and so on.\n",
        "\n",
        "• Custom Estimators: Users can also create their own estimators from the\n",
        "models they build in TensorFlow Keras. These are user-defined Estimators.\n",
        "Before being able to use TensorFlow Estimator let us understand two important\n",
        "components of the Estimator pipeline:"
      ]
    },
    {
      "cell_type": "markdown",
      "metadata": {
        "id": "mo18dLfInkag"
      },
      "source": [
        "## Feature columns\n",
        "\n",
        "The feature_column module of TensorFlow 2.0 acts as a bridge between your input\n",
        "data and the model. The input parameters to be used by the estimators for training\n",
        "are passed as feature columns. They are defined in TensorFlow feature_column and\n",
        "specify how the data is interpreted by the model. To create feature columns we will\n",
        "need to call functions from tensorflow.feature_columns. There are nine functions\n",
        "available in feature column:\n",
        "\n",
        "**• categorical_column_with_identity:** Here each category is one-hot\n",
        "encoded, and thus has a unique identity. This can be used for numeric values\n",
        "only.\n",
        "\n",
        "**• categorical_column_with_vocabulary_file:** This is used when the\n",
        "categorical input is a string and the categories are given in a file. The string is\n",
        "first converted to a numeric value and then one-hot encoded.\n",
        "\n",
        "**• categorical_column_with_vocabulary_list:** This is used when the categorical input is a string and the categories are explicitly defined in a list.\n",
        "The string is first converted to a numeric value and then one-hot encoded.\n",
        "\n",
        "**• categorical_column_with_hash_bucket:** In case the number of categories is very large, and it is not possible to one-hot encode, we use hashing.\n",
        "\n",
        "**• crossed_column:** When we want to use two columns combined as one\n",
        "feature, for example, in the case of geolocation-based data it makes sense to\n",
        "combine longitude and latitude values as one feature.\n",
        "\n",
        "**• numeric_column:** Used when the feature is a numeric, it can be a single value or even a matrix.\n",
        "\n",
        "**• indicator_column:** We do not use this directly. Instead, it is used with the categorical column, but only when the number of categories is limited and can be represented as one-hot encoded.\n",
        "\n",
        "**• embedding_column:** We do not use this directly. Instead, it is used with the categorical column, but only when the number of categories is very large and\n",
        "cannot be represented as one-hot encoded.\n",
        "\n",
        "**• bucketized_column:** This is used when, instead of a specific numeric value, we split the data into different categories depending upon its value.\n",
        "\n",
        "The first six functions inherit from the Categorical Column class, the next three inherit from the Dense Column class, and the last one inherits from both classes. \n",
        "\n",
        "In the following example we will use numeric_column and categorical_column_ with_vocabulary_list functions."
      ]
    },
    {
      "cell_type": "code",
      "metadata": {
        "id": "CtHufz1NEFoA"
      },
      "source": [
        ""
      ],
      "execution_count": null,
      "outputs": []
    }
  ]
}