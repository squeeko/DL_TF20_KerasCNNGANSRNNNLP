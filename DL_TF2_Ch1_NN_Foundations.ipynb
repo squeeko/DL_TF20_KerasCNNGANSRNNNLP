{
  "nbformat": 4,
  "nbformat_minor": 0,
  "metadata": {
    "colab": {
      "name": "DL_TF2_Ch1_NN_Foundations.ipynb",
      "provenance": [],
      "collapsed_sections": [],
      "authorship_tag": "ABX9TyMsSdaJyuNhqSogS53DtKNu",
      "include_colab_link": true
    },
    "kernelspec": {
      "name": "python3",
      "display_name": "Python 3"
    },
    "accelerator": "GPU"
  },
  "cells": [
    {
      "cell_type": "markdown",
      "metadata": {
        "id": "view-in-github",
        "colab_type": "text"
      },
      "source": [
        "<a href=\"https://colab.research.google.com/github/squeeko/DL_TF20_KerasCNNGANSRNNNLP/blob/main/DL_TF2_Ch1_NN_Foundations.ipynb\" target=\"_parent\"><img src=\"https://colab.research.google.com/assets/colab-badge.svg\" alt=\"Open In Colab\"/></a>"
      ]
    },
    {
      "cell_type": "code",
      "metadata": {
        "id": "R2rlKM4EwmDU"
      },
      "source": [
        "import tensorflow as tf\n",
        "import numpy as np\n",
        "from tensorflow import keras"
      ],
      "execution_count": null,
      "outputs": []
    },
    {
      "cell_type": "code",
      "metadata": {
        "id": "s-49bYpz6On7",
        "outputId": "a73473c3-569a-4f78-90ec-8a5f975b6a2d",
        "colab": {
          "base_uri": "https://localhost:8080/",
          "height": 34
        }
      },
      "source": [
        "print(tf.__version__)"
      ],
      "execution_count": null,
      "outputs": [
        {
          "output_type": "stream",
          "text": [
            "2.3.0\n"
          ],
          "name": "stdout"
        }
      ]
    },
    {
      "cell_type": "code",
      "metadata": {
        "id": "ulXlFLbKxQm9"
      },
      "source": [
        "# Network and training parameters.\n",
        "\n",
        "# EPOCHS = 200\n",
        "# EPOCHS = 50\n",
        "EPOCHS = 20\n",
        "BATCH_SIZE = 128\n",
        "VERBOSE = 1\n",
        "NB_CLASSES = 10 # number of outputs = number of digits\n",
        "N_HIDDEN = 128\n",
        "VALIDATION_SPLIT = 0.2 # how much train is reserved for validation\n",
        "DROPOUT = 0.3 # drops out 30% of the neurons to prevent them from firing, in essence making them \"0\""
      ],
      "execution_count": null,
      "outputs": []
    },
    {
      "cell_type": "code",
      "metadata": {
        "id": "3_GBg0zFxw3g"
      },
      "source": [
        "# Loading MNIST dataset\n",
        "# verify\n",
        "# You can verify the split between the train and test is 60K and 10K respectively\n",
        "# Labels have one-hot representation automatically applied\n",
        "\n",
        "mnist = keras.datasets.mnist\n",
        "(X_train, Y_train) , (X_test, Y_test) = mnist.load_data()"
      ],
      "execution_count": null,
      "outputs": []
    },
    {
      "cell_type": "code",
      "metadata": {
        "id": "Z1yck9cvyTIh"
      },
      "source": [
        "# X_train is 60K rows of 28 x 28 values and we reshape into 60K x 784(28 x 28)\n",
        "RESHAPED = 784\n",
        "\n",
        "X_train = X_train.reshape(60000, RESHAPED)\n",
        "X_test = X_test.reshape(10000, RESHAPED)\n",
        "X_train = X_train.astype('float32')\n",
        "X_test = X_test.astype('float32')"
      ],
      "execution_count": null,
      "outputs": []
    },
    {
      "cell_type": "code",
      "metadata": {
        "id": "wdi_GTUEzeaX",
        "outputId": "cd0dab31-d4c2-45c9-df13-c5f359a9d677",
        "colab": {
          "base_uri": "https://localhost:8080/",
          "height": 51
        }
      },
      "source": [
        "# Normalize inputs to be within [0,1]\n",
        "\n",
        "X_train /= 255.0\n",
        "X_test /= 255.0\n",
        "print(X_train.shape[0], 'train_samples')\n",
        "print(X_test.shape[0], 'test samples')"
      ],
      "execution_count": null,
      "outputs": [
        {
          "output_type": "stream",
          "text": [
            "60000 train_samples\n",
            "10000 test samples\n"
          ],
          "name": "stdout"
        }
      ]
    },
    {
      "cell_type": "code",
      "metadata": {
        "id": "uDSxC-ilz7Gb"
      },
      "source": [
        "# One hot representation of the labels\n",
        "\n",
        "Y_train = tf.keras.utils.to_categorical(Y_train, NB_CLASSES)\n",
        "Y_test = tf.keras.utils.to_categorical(Y_test, NB_CLASSES)"
      ],
      "execution_count": null,
      "outputs": []
    },
    {
      "cell_type": "code",
      "metadata": {
        "id": "cu22Vu9K0fK_"
      },
      "source": [
        "# Build the model \n",
        "\n",
        "# model = tf.keras.models.Sequential()\n",
        "# model.add(\n",
        "#     keras.layers.Dense(NB_CLASSES,\n",
        "#                        input_shape=(RESHAPED,),\n",
        "#                        name = 'dense_layer',\n",
        "#                        activation = 'softmax')\n",
        "# )\n",
        "\n",
        "# Improved model w/ better accuracy by adding layers\n",
        "\n",
        "# model = tf.keras.models.Sequential()\n",
        "# model.add(keras.layers.Dense(N_HIDDEN,\n",
        "#                         input_shape=(RESHAPED,),\n",
        "#                         name = 'dense_layer',\n",
        "#                         activation = 'relu'))\n",
        "# model.add(keras.layers.Dense(N_HIDDEN,\n",
        "#                              name = 'dense_layer_2',\n",
        "#                              activation = 'relu'))\n",
        "# model.add(keras.layers.Dense(NB_CLASSES,\n",
        "#                              name = 'dense_layer_3',\n",
        "#                              activation = 'softmax'))\n",
        "\n",
        "# Improving again by adding a dropout layer\n",
        "\n",
        "model = tf.keras.models.Sequential()\n",
        "model.add(keras.layers.Dense(N_HIDDEN,\n",
        "                        input_shape=(RESHAPED,),\n",
        "                        name = 'dense_layer',\n",
        "                        activation = 'relu'))\n",
        "model.add(keras.layers.Dropout(DROPOUT))\n",
        "model.add(keras.layers.Dense(N_HIDDEN,\n",
        "                             name = 'dense_layer_2',\n",
        "                             activation = 'relu'))\n",
        "model.add(keras.layers.Dense(NB_CLASSES,\n",
        "                             name = 'dense_layer_3',\n",
        "                             activation = 'softmax'))"
      ],
      "execution_count": null,
      "outputs": []
    },
    {
      "cell_type": "code",
      "metadata": {
        "id": "6OopVU1M45GX",
        "outputId": "b80e8c46-ca29-428e-e8fe-7d396ce13893",
        "colab": {
          "base_uri": "https://localhost:8080/",
          "height": 289
        }
      },
      "source": [
        "# Summary of the model\n",
        "\n",
        "model.summary()"
      ],
      "execution_count": null,
      "outputs": [
        {
          "output_type": "stream",
          "text": [
            "Model: \"sequential_5\"\n",
            "_________________________________________________________________\n",
            "Layer (type)                 Output Shape              Param #   \n",
            "=================================================================\n",
            "dense_layer (Dense)          (None, 128)               100480    \n",
            "_________________________________________________________________\n",
            "dropout (Dropout)            (None, 128)               0         \n",
            "_________________________________________________________________\n",
            "dense_layer_2 (Dense)        (None, 128)               16512     \n",
            "_________________________________________________________________\n",
            "dense_layer_3 (Dense)        (None, 10)                1290      \n",
            "=================================================================\n",
            "Total params: 118,282\n",
            "Trainable params: 118,282\n",
            "Non-trainable params: 0\n",
            "_________________________________________________________________\n"
          ],
          "name": "stdout"
        }
      ]
    },
    {
      "cell_type": "code",
      "metadata": {
        "id": "E0QPRbIb0-ja"
      },
      "source": [
        "# Compiling the model\n",
        "model.compile(\n",
        "    # optimizer = 'SGD',\n",
        "    # optimizer = 'RMSProp',\n",
        "    optimizer = 'Adam',\n",
        "    loss = 'categorical_crossentropy',\n",
        "    metrics = ['accuracy']\n",
        ")"
      ],
      "execution_count": null,
      "outputs": []
    },
    {
      "cell_type": "code",
      "metadata": {
        "id": "Km-BivAd1WjE",
        "outputId": "0e826922-49b1-4ddc-e9f0-9bd9e57abe2e",
        "colab": {
          "base_uri": "https://localhost:8080/",
          "height": 734
        }
      },
      "source": [
        "# Train/fit the model - model.fit\n",
        "\n",
        "model.fit(\n",
        "    X_train, Y_train, \n",
        "    batch_size = BATCH_SIZE,\n",
        "    epochs = EPOCHS,\n",
        "    verbose = VERBOSE,\n",
        "    validation_split = VALIDATION_SPLIT\n",
        ")"
      ],
      "execution_count": null,
      "outputs": [
        {
          "output_type": "stream",
          "text": [
            "Epoch 1/20\n",
            "375/375 [==============================] - 1s 3ms/step - loss: 0.0207 - accuracy: 0.9944 - val_loss: 0.1573 - val_accuracy: 0.9808\n",
            "Epoch 2/20\n",
            "375/375 [==============================] - 1s 3ms/step - loss: 0.0214 - accuracy: 0.9937 - val_loss: 0.1466 - val_accuracy: 0.9817\n",
            "Epoch 3/20\n",
            "375/375 [==============================] - 1s 3ms/step - loss: 0.0196 - accuracy: 0.9942 - val_loss: 0.1482 - val_accuracy: 0.9821\n",
            "Epoch 4/20\n",
            "375/375 [==============================] - 1s 3ms/step - loss: 0.0188 - accuracy: 0.9948 - val_loss: 0.1375 - val_accuracy: 0.9826\n",
            "Epoch 5/20\n",
            "375/375 [==============================] - 1s 3ms/step - loss: 0.0199 - accuracy: 0.9942 - val_loss: 0.1441 - val_accuracy: 0.9810\n",
            "Epoch 6/20\n",
            "375/375 [==============================] - 1s 3ms/step - loss: 0.0189 - accuracy: 0.9947 - val_loss: 0.1441 - val_accuracy: 0.9812\n",
            "Epoch 7/20\n",
            "375/375 [==============================] - 1s 3ms/step - loss: 0.0209 - accuracy: 0.9942 - val_loss: 0.1411 - val_accuracy: 0.9811\n",
            "Epoch 8/20\n",
            "375/375 [==============================] - 1s 3ms/step - loss: 0.0207 - accuracy: 0.9941 - val_loss: 0.1307 - val_accuracy: 0.9828\n",
            "Epoch 9/20\n",
            "375/375 [==============================] - 1s 3ms/step - loss: 0.0223 - accuracy: 0.9941 - val_loss: 0.1296 - val_accuracy: 0.9807\n",
            "Epoch 10/20\n",
            "375/375 [==============================] - 1s 3ms/step - loss: 0.0214 - accuracy: 0.9937 - val_loss: 0.1417 - val_accuracy: 0.9800\n",
            "Epoch 11/20\n",
            "375/375 [==============================] - 1s 3ms/step - loss: 0.0202 - accuracy: 0.9941 - val_loss: 0.1370 - val_accuracy: 0.9815\n",
            "Epoch 12/20\n",
            "375/375 [==============================] - 1s 3ms/step - loss: 0.0198 - accuracy: 0.9947 - val_loss: 0.1298 - val_accuracy: 0.9822\n",
            "Epoch 13/20\n",
            "375/375 [==============================] - 1s 3ms/step - loss: 0.0167 - accuracy: 0.9954 - val_loss: 0.1433 - val_accuracy: 0.9824\n",
            "Epoch 14/20\n",
            "375/375 [==============================] - 1s 3ms/step - loss: 0.0185 - accuracy: 0.9948 - val_loss: 0.1417 - val_accuracy: 0.9808\n",
            "Epoch 15/20\n",
            "375/375 [==============================] - 1s 3ms/step - loss: 0.0195 - accuracy: 0.9940 - val_loss: 0.1268 - val_accuracy: 0.9815\n",
            "Epoch 16/20\n",
            "375/375 [==============================] - 1s 3ms/step - loss: 0.0165 - accuracy: 0.9948 - val_loss: 0.1447 - val_accuracy: 0.9812\n",
            "Epoch 17/20\n",
            "375/375 [==============================] - 1s 3ms/step - loss: 0.0183 - accuracy: 0.9942 - val_loss: 0.1272 - val_accuracy: 0.9832\n",
            "Epoch 18/20\n",
            "375/375 [==============================] - 1s 3ms/step - loss: 0.0195 - accuracy: 0.9941 - val_loss: 0.1458 - val_accuracy: 0.9817\n",
            "Epoch 19/20\n",
            "375/375 [==============================] - 1s 3ms/step - loss: 0.0178 - accuracy: 0.9948 - val_loss: 0.1503 - val_accuracy: 0.9797\n",
            "Epoch 20/20\n",
            "375/375 [==============================] - 1s 3ms/step - loss: 0.0208 - accuracy: 0.9939 - val_loss: 0.1402 - val_accuracy: 0.9818\n"
          ],
          "name": "stdout"
        },
        {
          "output_type": "execute_result",
          "data": {
            "text/plain": [
              "<tensorflow.python.keras.callbacks.History at 0x7f92a0143668>"
            ]
          },
          "metadata": {
            "tags": []
          },
          "execution_count": 64
        }
      ]
    },
    {
      "cell_type": "code",
      "metadata": {
        "id": "M0ZTLS-y1zW_",
        "outputId": "d88471fb-8968-4656-990a-3b9c80def47c",
        "colab": {
          "base_uri": "https://localhost:8080/",
          "height": 51
        }
      },
      "source": [
        "# Evaluate the model - which right now SUCKS!!!!! LOL ;) PRE NEW IMPROVED MODELS\n",
        "\n",
        "test_loss, test_acc = model.evaluate(X_test, Y_test)\n",
        "print('Test Accuracy: ', test_acc)"
      ],
      "execution_count": null,
      "outputs": [
        {
          "output_type": "stream",
          "text": [
            "313/313 [==============================] - 1s 2ms/step - loss: 0.2109 - accuracy: 0.9798\n",
            "Test Accuracy:  0.9797999858856201\n"
          ],
          "name": "stdout"
        }
      ]
    },
    {
      "cell_type": "code",
      "metadata": {
        "id": "_gRIaFJY25fO"
      },
      "source": [
        ""
      ],
      "execution_count": null,
      "outputs": []
    }
  ]
}