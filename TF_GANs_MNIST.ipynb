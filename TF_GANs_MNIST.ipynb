{
  "nbformat": 4,
  "nbformat_minor": 0,
  "metadata": {
    "colab": {
      "name": "TF_GANs_MNIST.ipynb",
      "provenance": [],
      "collapsed_sections": [],
      "authorship_tag": "ABX9TyM83EmrqkWzTpULOYvtEpZQ",
      "include_colab_link": true
    },
    "kernelspec": {
      "name": "python3",
      "display_name": "Python 3"
    }
  },
  "cells": [
    {
      "cell_type": "markdown",
      "metadata": {
        "id": "view-in-github",
        "colab_type": "text"
      },
      "source": [
        "<a href=\"https://colab.research.google.com/github/squeeko/DL_TF20_KerasCNNGANSRNNNLP/blob/main/TF_GANs_MNIST.ipynb\" target=\"_parent\"><img src=\"https://colab.research.google.com/assets/colab-badge.svg\" alt=\"Open In Colab\"/></a>"
      ]
    },
    {
      "cell_type": "markdown",
      "metadata": {
        "id": "d2_LEVd-omr4"
      },
      "source": [
        "# MNIST using GAN in TensorFlow\n",
        "\n",
        "Let us build a simple GAN capable of generating handwritten digits. We will use\n",
        "the MNIST handwritten digits to train the network. We use the TensorFlow Keras\n",
        "dataset to access the MNIST data. The data contains 60,000 training images of\n",
        "handwritten digits each of size 28 × 28. The pixel value of the digits lies between\n",
        "0-255; we normalize the input values such that each pixel has a value in range [-1, 1]:"
      ]
    },
    {
      "cell_type": "code",
      "metadata": {
        "id": "xxl1Hde-m41I"
      },
      "source": [
        "import tensorflow as tf\n",
        "import numpy as np\n",
        "import matplotlib.pyplot as plt\n",
        "\n",
        "from keras.layers import Input\n",
        "from keras.models import Model, Sequential\n",
        "from keras.layers.core import Reshape, Dense, Dropout, Flatten\n",
        "from keras.layers.advanced_activations import LeakyReLU\n",
        "from keras.layers.convolutional import Conv2D, UpSampling2D\n",
        "from keras.datasets import mnist"
      ],
      "execution_count": 11,
      "outputs": []
    },
    {
      "cell_type": "code",
      "metadata": {
        "id": "BQP-oPdsnp7n",
        "outputId": "6e923ad7-1e6f-4c7b-cd7d-d0eb554d2f03",
        "colab": {
          "base_uri": "https://localhost:8080/"
        }
      },
      "source": [
        "(X_train, _), (_, _) = tf.keras.datasets.mnist.load_data()\n",
        "X_train = (X_train.astype(np.float32) - 127.5) / 127.5"
      ],
      "execution_count": 3,
      "outputs": [
        {
          "output_type": "stream",
          "text": [
            "Downloading data from https://storage.googleapis.com/tensorflow/tf-keras-datasets/mnist.npz\n",
            "11493376/11490434 [==============================] - 0s 0us/step\n"
          ],
          "name": "stdout"
        }
      ]
    },
    {
      "cell_type": "markdown",
      "metadata": {
        "id": "rw_Uh59NoxOJ"
      },
      "source": [
        "We will use a simple multi-layered perceptron (MLP) and we will feed it an image\n",
        "as a flat vector of size 784, so we reshape the training data:\n",
        "\n",
        "A multilayer perceptron (MLP) is a class of feedforward artificial neural network (ANN). The term MLP is used ambiguously, sometimes loosely to any feedforward ANN, sometimes strictly to refer to networks composed of multiple layers of perceptrons (with threshold activation); see § Terminology. Multilayer perceptrons are sometimes colloquially referred to as \"vanilla\" neural networks, especially when they have a single hidden layer.\n",
        "\n",
        "An MLP consists of at least three layers of nodes: an input layer, a hidden layer and an output layer. Except for the input nodes, each node is a neuron that uses a nonlinear activation function. MLP utilizes a supervised learning technique called backpropagation for training. Its multiple layers and non-linear activation distinguish MLP from a linear perceptron. It can distinguish data that is not linearly separable."
      ]
    },
    {
      "cell_type": "code",
      "metadata": {
        "id": "S3bAnxNKoC4H"
      },
      "source": [
        "X_train = X_train.reshape(60000, 784)"
      ],
      "execution_count": 4,
      "outputs": []
    },
    {
      "cell_type": "markdown",
      "metadata": {
        "id": "QfC8O52Hq_4B"
      },
      "source": [
        "Now we will need to build a generator and discriminator. The purpose of the\n",
        "generator is to take in a noisy input and generate an image similar to the training\n",
        "dataset. **The size of the noisy input is decided by the variable randomDim; you\n",
        "can initialize it to any integral value. Conventionally people set it to 100. For our\n",
        "implementation we tried a value of 10.** This input is fed to a Dense layer with\n",
        "256 neurons with LeakyReLU activation.  We next add another Dense layer with\n",
        "512 hidden neurons, followed by the third hidden layer with 1024 neurons and\n",
        "finally the output layer with 784 neurons. You can change the number of neurons\n",
        "in the hidden layers and see how the performance changes; however, the number\n",
        "of neurons in the output unit has to match the number of pixels in the training\n",
        "images. The corresponding generator is then:"
      ]
    },
    {
      "cell_type": "code",
      "metadata": {
        "id": "fwmpWpuzrHiy"
      },
      "source": [
        "randomDim = 10\n",
        "\n",
        "generator = Sequential()\n",
        "generator.add(Dense(256, input_dim = randomDim))\n",
        "generator.add(LeakyReLU(0.2))\n",
        "generator.add(Dense(512))\n",
        "generator.add(LeakyReLU(0.2))\n",
        "generator.add(Dense(1024))\n",
        "generator.add(LeakyReLU(0.2))\n",
        "generator.add(Dense(784, activation='tanh'))"
      ],
      "execution_count": 20,
      "outputs": []
    },
    {
      "cell_type": "markdown",
      "metadata": {
        "id": "RCzatXkZuHk6"
      },
      "source": [
        "Similarly, we build a discriminator. Notice now that the discriminator takes in the\n",
        "images, either from the training set or images generated by generator, thus its input\n",
        "size is 784. The output of the discriminator however is a single bit, with 0 signifying\n",
        "a fake image (generated by generator) and 1 signifying that the image is from the\n",
        "training dataset:"
      ]
    },
    {
      "cell_type": "code",
      "metadata": {
        "id": "b2w5XxRerSMp"
      },
      "source": [
        "discriminator = Sequential()\n",
        "discriminator.add(Dense(1024, input_dim = 784))\n",
        "discriminator.add(LeakyReLU(0.2))\n",
        "discriminator.add(Dropout(0.3))\n",
        "discriminator.add(Dense(512))\n",
        "discriminator.add(LeakyReLU(0.2))\n",
        "discriminator.add(Dropout(0.3))\n",
        "discriminator.add(Dense(256))\n",
        "discriminator.add(LeakyReLU(0.2))\n",
        "discriminator.add(Dropout(0.3))\n",
        "discriminator.add(Dense(1, activation='sigmoid'))"
      ],
      "execution_count": 18,
      "outputs": []
    },
    {
      "cell_type": "markdown",
      "metadata": {
        "id": "eYvl0lgbvt9B"
      },
      "source": [
        "Next, we combine the generator and discriminator together to form a GAN. In the\n",
        "GAN we ensure that the discriminator weights are fixed by setting the trainable\n",
        "argument to False:"
      ]
    },
    {
      "cell_type": "code",
      "metadata": {
        "id": "DRl41rR2vOhU"
      },
      "source": [
        "discriminator.trainable = False\n",
        "ganInput = Input(shape=(randomDim, ))\n",
        "x = generator(ganInput)\n",
        "ganOutput = discriminator(x)\n",
        "gan = Model(inputs = ganInput, outputs = ganOutput)"
      ],
      "execution_count": 22,
      "outputs": []
    },
    {
      "cell_type": "markdown",
      "metadata": {
        "id": "1CHqzIAFwn6y"
      },
      "source": [
        "The trick to train the two is that we first train the discriminator separately; we\n",
        "use binary cross entropy loss for the discriminator. Later we freeze the weights of\n",
        "the discriminator and train the combined GAN; this results in the training of the\n",
        "generator. The loss this time is also binary cross entropy:"
      ]
    },
    {
      "cell_type": "code",
      "metadata": {
        "id": "ewHsOUH3wfRV"
      },
      "source": [
        "discriminator.compile(loss = 'binary_crossentropy', optimizer = 'adam')\n",
        "gan.compile(loss = 'binary_crossentropy', optimizer = 'adam')"
      ],
      "execution_count": 33,
      "outputs": []
    },
    {
      "cell_type": "markdown",
      "metadata": {
        "id": "YXb4nf5CxC16"
      },
      "source": [
        "Let us now perform the training. For each epoch we take a sample of random noise\n",
        "first, feed it to the generator, and the generator produces a fake image. We combine\n",
        "the generated fake images and the actual training images in a batch with their\n",
        "specific labels and use them to train the discriminator first on the given batch:"
      ]
    },
    {
      "cell_type": "code",
      "metadata": {
        "id": "uNGR0OgzxAjj"
      },
      "source": [
        "def train(epochs=1, batchSize=128):\n",
        "  batchCount = int(X_train.shape[0] / batchSize)\n",
        "  print ('Epochs:', epochs)\n",
        "  print ('Batch size:', batchSize)\n",
        "  print ('Batches per epoch:', batchCount)\n",
        "\n",
        "  for e in range(1, epochs+1):\n",
        "    print ('-'*15, 'Epoch %d' % e, '-'*15)\n",
        "    for _ in range(batchCount):\n",
        "\n",
        "    # Get a random set of input noise and images\n",
        "      noise = np.random.normal(0, 1, size=[batchSize, randomDim])\n",
        "      imageBatch = X_train[np.random.randint(0, X_train.shape[0], size=batchSize)]\n",
        "\n",
        "      # Generate fake MNIST images\n",
        "      generatedImages = generator.predict(noise)\n",
        "\n",
        "      # print np.shape(imageBatch), np.shape(generatedImages)\n",
        "      X = np.concatenate([imageBatch, generatedImages])\n",
        "\n",
        "      # Labels for generated and real data\n",
        "      yDis = np.zeros(2*batchSize)\n",
        "      # One-sided label smoothing\n",
        "      yDis[:batchSize] = 0.9\n",
        "\n",
        "      # Train discriminator\n",
        "      discriminator.trainable = True\n",
        "      dloss = discriminator.train_on_batch(X, yDis)\n",
        "\n",
        "      # Train generator\n",
        "      noise = np.random.normal(0, 1, size=[batchSize, randomDim])\n",
        "      yGen = np.ones(batchSize)\n",
        "      discriminator.trainable = False\n",
        "      gloss = gan.train_on_batch(noise, yGen)\n",
        "\n",
        "      if e == 1 or e % 20 == 0:\n",
        "        saveGeneratedImages(e)\n",
        "  "
      ],
      "execution_count": 39,
      "outputs": []
    },
    {
      "cell_type": "markdown",
      "metadata": {
        "id": "Q7UpnYz5x4wh"
      },
      "source": [
        "Now in the same for loop, we trained the generator. We wanted the images\n",
        "generated by the generator to be detected as real by the discriminator, so we used\n",
        "a random vector (noise) as input to the generator; this generated a fake image\n",
        "and then trained the GAN such that the discriminator perceived the image as real\n",
        "(output 1):\n",
        "\n",
        "\n",
        "OPTIONAL: Cool trick, right? If you wish to, you can save the generator and discriminator loss\n",
        "as well as the generated images. Next, we are saving the losses for each epoch and\n",
        "generating images after every 20 epochs:"
      ]
    },
    {
      "cell_type": "markdown",
      "metadata": {
        "id": "7sGEDVntz94L"
      },
      "source": [
        "To plot the loss and the generated images of the handwritten digits, we define two\n",
        "helper functions, plotLoss() and saveGeneratedImages(). Their code is given\n",
        "as follows:"
      ]
    },
    {
      "cell_type": "code",
      "metadata": {
        "id": "n1Ks3_sDx9KA"
      },
      "source": [
        "# Plot the loss from each batch\n",
        "def plotLoss(epoch):\n",
        "  plt.figure(figsize=(10, 8))\n",
        "  plt.plot(dLosses, label='Discriminitive loss')\n",
        "  plt.plot(gLosses, label='Generative loss')\n",
        "  plt.xlabel('Epoch')\n",
        "  plt.ylabel('Loss')\n",
        "  plt.legend()\n",
        "  plt.savefig('images/gan_loss_epoch_%d.png' % epoch)\n",
        "\n",
        "# Create a wall of generated MNIST images\n",
        "def saveGeneratedImages(epoch, examples=100, dim=(10, 10), figsize=(10, 10)):\n",
        "    noise = np.random.normal(0, 1, size=[examples, randomDim])\n",
        "    generatedImages = generator.predict(noise)\n",
        "    generatedImages = generatedImages.reshape(examples, 28, 28)\n",
        "    plt.figure(figsize=figsize)\n",
        "\n",
        "    for i in range(generatedImages.shape[0]):\n",
        "      plt.subplot(dim[0], dim[1], i+1)\n",
        "      plt.imshow(generatedImages[i], interpolation='nearest', cmap='gray_r')\n",
        "      plt.axis('off')\n",
        "      plt.tight_layout()\n",
        "      plt.savefig('images/gan_generated_image_epoch_%d.png' % epoch)"
      ],
      "execution_count": 37,
      "outputs": []
    },
    {
      "cell_type": "markdown",
      "metadata": {
        "id": "UZPf8pm80q9M"
      },
      "source": [
        "The complete code for this can be found in the notebook [VanillaGAN.ipynb](https://github.com/squeeko/Deep-Learning-with-TensorFlow-2-and-Keras/blob/master/Chapter%206/VanillaGAN.ipynb) at\n",
        "the GitHub repo for this chapter."
      ]
    },
    {
      "cell_type": "code",
      "metadata": {
        "id": "8UWLk5Ob34d1",
        "outputId": "18f409f8-7f81-4802-aff8-6f0743debfe6",
        "colab": {
          "base_uri": "https://localhost:8080/",
          "height": 163
        }
      },
      "source": [
        "    plotLoss(e)"
      ],
      "execution_count": 40,
      "outputs": [
        {
          "output_type": "error",
          "ename": "NameError",
          "evalue": "ignored",
          "traceback": [
            "\u001b[0;31m---------------------------------------------------------------------------\u001b[0m",
            "\u001b[0;31mNameError\u001b[0m                                 Traceback (most recent call last)",
            "\u001b[0;32m<ipython-input-40-cc746b3e01c2>\u001b[0m in \u001b[0;36m<module>\u001b[0;34m()\u001b[0m\n\u001b[0;32m----> 1\u001b[0;31m \u001b[0mplotLoss\u001b[0m\u001b[0;34m(\u001b[0m\u001b[0me\u001b[0m\u001b[0;34m)\u001b[0m\u001b[0;34m\u001b[0m\u001b[0;34m\u001b[0m\u001b[0m\n\u001b[0m",
            "\u001b[0;31mNameError\u001b[0m: name 'e' is not defined"
          ]
        }
      ]
    },
    {
      "cell_type": "code",
      "metadata": {
        "id": "XUmdIAW25AaW"
      },
      "source": [
        ""
      ],
      "execution_count": null,
      "outputs": []
    }
  ]
}